{
 "cells": [
  {
   "cell_type": "code",
   "execution_count": 45,
   "metadata": {},
   "outputs": [],
   "source": [
    "import pandas as pd\n",
    "import networkx as nx\n",
    "from collections import defaultdict"
   ]
  },
  {
   "cell_type": "code",
   "execution_count": 28,
   "metadata": {},
   "outputs": [],
   "source": [
    "titanic_df = pd.read_parquet('data/titanic_data.parquet.gzip')"
   ]
  },
  {
   "cell_type": "code",
   "execution_count": 29,
   "metadata": {},
   "outputs": [],
   "source": [
    "def remove_lonely(name):\n",
    "    if name in lonely:\n",
    "        return 0\n",
    "    else:\n",
    "        return 1"
   ]
  },
  {
   "cell_type": "code",
   "execution_count": 30,
   "metadata": {},
   "outputs": [],
   "source": [
    "titanic_df['surname'] = titanic_df.Name.apply(lambda x: x.split(',')[0])\n",
    "surnames = titanic_df['surname'].value_counts()\n",
    "lonely = []\n",
    "for index, item in surnames.iteritems():\n",
    "    if item == 1:\n",
    "        lonely.append(index)\n",
    "titanic_df = titanic_df[titanic_df['surname'].apply(remove_lonely) != 0]"
   ]
  },
  {
   "cell_type": "code",
   "execution_count": 32,
   "metadata": {},
   "outputs": [],
   "source": [
    "titanic_passengers = dict()\n",
    "for passenger in titanic_df.index:\n",
    "    titanic_passengers[titanic_df.loc[passenger, 'PassengerId']] = {\n",
    "        'Survived': titanic_df.loc[passenger, 'Survived'],\n",
    "        'Pclass': titanic_df.loc[passenger, 'Pclass'],\n",
    "        'Name': titanic_df.loc[passenger, 'Name'],\n",
    "        'Sex': titanic_df.loc[passenger, 'Sex'],\n",
    "        'Age': titanic_df.loc[passenger, 'Age'],\n",
    "        'SibSp': titanic_df.loc[passenger, 'SibSp'],\n",
    "        'Parch': titanic_df.loc[passenger, 'Parch'],\n",
    "        'surname': titanic_df.loc[passenger, 'surname'],\n",
    "    }"
   ]
  },
  {
   "cell_type": "code",
   "execution_count": 42,
   "metadata": {},
   "outputs": [],
   "source": [
    "graph = defaultdict(list)\n",
    "for passenger_id in titanic_df.PassengerId.tolist():\n",
    "    surname = titanic_df[titanic_df['PassengerId'] == passenger_id].surname\n",
    "    surname = surname.values[0]\n",
    "    family = titanic_df[titanic_df['surname'] == surname]\n",
    "    for member in family.PassengerId.tolist():\n",
    "        if member != passenger_id:\n",
    "            graph[passenger_id].append(member)"
   ]
  }
 ],
 "metadata": {
  "kernelspec": {
   "display_name": "PAenv",
   "language": "python",
   "name": "paenv"
  },
  "language_info": {
   "codemirror_mode": {
    "name": "ipython",
    "version": 3
   },
   "file_extension": ".py",
   "mimetype": "text/x-python",
   "name": "python",
   "nbconvert_exporter": "python",
   "pygments_lexer": "ipython3",
   "version": "3.8.5"
  }
 },
 "nbformat": 4,
 "nbformat_minor": 4
}
